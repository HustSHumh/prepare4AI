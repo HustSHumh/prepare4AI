{
 "cells": [
  {
   "cell_type": "code",
   "execution_count": 5,
   "metadata": {},
   "outputs": [],
   "source": [
    "import pandas as pd\n",
    "import numpy as np\n",
    "\n",
    "df_train_info = pd.read_csv(f'data\\A榜-训练集_海上风电预测_基本信息.csv', encoding='gbk')\n",
    "df_train_train = pd.read_csv(f'data\\A榜-训练集_海上风电预测_气象变量及实际功率数据.csv', encoding='gbk')"
   ]
  },
  {
   "cell_type": "code",
   "execution_count": 7,
   "metadata": {},
   "outputs": [
    {
     "name": "stdout",
     "output_type": "stream",
     "text": [
      "<class 'pandas.core.frame.DataFrame'>\n",
      "RangeIndex: 231840 entries, 0 to 231839\n",
      "Data columns (total 13 columns):\n",
      " #   Column          Non-Null Count   Dtype  \n",
      "---  ------          --------------   -----  \n",
      " 0   站点编号            231840 non-null  object \n",
      " 1   时间              231840 non-null  object \n",
      " 2   气压(Pa）          231840 non-null  float64\n",
      " 3   相对湿度（%）         231840 non-null  float64\n",
      " 4   云量              231840 non-null  float64\n",
      " 5   10米风速（10m/s）    231840 non-null  float64\n",
      " 6   10米风向（°)        231840 non-null  float64\n",
      " 7   温度（K）           231840 non-null  float64\n",
      " 8   辐照强度（J/m2）      231840 non-null  float64\n",
      " 9   降水（m）           231840 non-null  float64\n",
      " 10  100m风速（100m/s）  231840 non-null  float64\n",
      " 11  100m风向（°)       231840 non-null  float64\n",
      " 12  出力(MW)          231840 non-null  object \n",
      "dtypes: float64(10), object(3)\n",
      "memory usage: 23.0+ MB\n"
     ]
    }
   ],
   "source": [
    "df_train_train"
   ]
  }
 ],
 "metadata": {
  "kernelspec": {
   "display_name": ".venv",
   "language": "python",
   "name": "python3"
  },
  "language_info": {
   "codemirror_mode": {
    "name": "ipython",
    "version": 3
   },
   "file_extension": ".py",
   "mimetype": "text/x-python",
   "name": "python",
   "nbconvert_exporter": "python",
   "pygments_lexer": "ipython3",
   "version": "3.9.13"
  }
 },
 "nbformat": 4,
 "nbformat_minor": 2
}
