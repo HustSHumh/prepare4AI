{
 "cells": [
  {
   "cell_type": "code",
   "execution_count": 1,
   "metadata": {
    "uuid": "ec2120d9-c144-4dc7-9be9-b4855567376f"
   },
   "outputs": [],
   "source": [
    "import gc\n",
    "import datetime\n",
    "import oss2\n",
    "import numpy as np\n",
    "import pandas as pd\n",
    "from odps import ODPS\n",
    "from odps.df import DataFrame\n",
    "import datetime\n",
    "import time\n",
    "import matplotlib.pyplot as plt\n",
    "import openpyxl\n",
    "import os\n",
    "\n",
    "\n",
    "from tqdm import tqdm\n",
    "\n",
    "\n",
    "\n",
    "# 公共OSS AK\n",
    "bucket_name = 'sf-2023'\n",
    "oss_endpoint = 'http://oss-cn-guangzhou-nfdw-d01-a.pdcc-cloud-inc.cn'\n",
    "AK = 'wbr4Y7IjXopW7CWZ'\n",
    "AKS = 'reP1eCeahBC7U9w0i5rhQU9oGgS0NA'\n",
    "\n",
    "# 广西AK\n",
    "AK_GX = 'MBs3yHviVlKIY3gh'\n",
    "AKS_GX = 'wUvWZOnGTtWVVir65A3ogIfOKSkHIB'\n",
    "NAME = 'sf_2023_chenquanqi'\n",
    "endpoint = 'http://service.cn-guangzhou-nfdw-d01.odps.pdcc-cloud-inc.cn/api'\n",
    "\n",
    "\n",
    "oid_list = ['15481140756807681','15481140756873217','15481140756938753','15481140830863361','15481140766113793',\n",
    "            '15481140766179329','15481140766244865','15481140766310401','15481140757266433','15481140757725185',\n",
    "            '15481140757790721','15481140757004289','15481140757069825','15481140757135361','15481140757200897',\n",
    "            '15481140766375937','15481140766441473','15481140766507009','15481140766572545','15481137326915585',\n",
    "            '15481130476634115','15481130500882435','15481125255184390','15481129194225670','15481128900034564',\n",
    "            '15481128891252742','15481130821025794','15481130821156866','15481130901110786','15481131802034178']"
   ]
  },
  {
   "cell_type": "code",
   "execution_count": 2,
   "metadata": {
    "uuid": "b7b3cdde-7f00-463f-a2c8-c2da22f037f2"
   },
   "outputs": [],
   "source": [
    "def create_dir_if_not_exist(dirpath):\n",
    "    if not os.path.exists(dirpath):\n",
    "        os.makedirs(dirpath)\n",
    "    return dirpath\n",
    "\n",
    "\n",
    "\n",
    "def pull_yes_data(oid_list, o, date_list=None):\n",
    "    date_type = '%Y-%m-%d'\n",
    "    today = datetime.date.today().strftime('%Y-%m-%d')\n",
    "    start_date = (datetime.date.today() +  datetime.timedelta(days=-30)).strftime('%Y-%m-%d')\n",
    "    \n",
    "    if date_list is None:\n",
    "        date_list = [(datetime.date.today() + datetime.timedelta(days=-1)).strftime('%Y-%m-%d')] * len(oid_list)\n",
    "    else:\n",
    "        if len(date_list) != len(oid_list):\n",
    "            raise ValueError('请输入与OID数量一致的日期数量')\n",
    "        else:\n",
    "            for date in date_list:\n",
    "                try:\n",
    "                    time.strptime(date, date_type)\n",
    "                    \n",
    "                    # continue\n",
    "                except:\n",
    "                    raise ValueError('请输入正确的日期格式——例如‘2023-01-01’')\n",
    "                if date < start_date or date >= today: \n",
    "                    raise ValueError('请输入一个月内的日期， 在{}到{}之间'.format(start_date, (datetime.date.today() + datetime.timedelta(days=-1)).strftime('%Y-%m-%d')))\n",
    "    \n",
    "    df_list = []\n",
    "    for oid, date in zip(oid_list, date_list):\n",
    "        sql = '''select oid, power_time, power from sf_2023_pw.t_electricity t \n",
    "        where t.oid = {}  and t.power_time >= \"{}\"'''.format(oid, date + ' 00:00:00')\n",
    "        querry_job = o.execute_sql(sql)\n",
    "        result = querry_job.open_reader()\n",
    "        df = result.to_pandas()\n",
    "        df.sort_values('power_time', inplace=True)\n",
    "        df['power_time'] = pd.to_datetime(df['power_time'])\n",
    "        df['power'] = pd.to_numeric(df['power'])\n",
    "        df = df.set_index('power_time')\n",
    "        df = df.loc[date:date, :]\n",
    "        df_list.append(df)\n",
    "    return df_list"
   ]
  },
  {
   "cell_type": "code",
   "execution_count": null,
   "metadata": {
    "uuid": "63aa2295-97a1-49a8-bbd7-dbb56feec90b"
   },
   "outputs": [],
   "source": [
    "def send_result(df_list, o):\n",
    "    pred_date = (datetime.date.today() + datetime.timedelta(days = 1)).strftime('%Y-%m-%d')\n",
    "    sjrq = datetime.datetime.now().strftime('%Y-%M-%d hh:mm:ss')\n",
    "    df_final = None\n",
    "    for df in df_list:\n",
    "        df_res = pd.DataFrame(\n",
    "            {    \n",
    "                'oid' : df['oid'].values,\n",
    "                'sjrq' : [datetime.datetime.now().strftime('%Y-%m-%d %H:%M:%S')] * 96,\n",
    "                'ycrq' : pd.date_range(pred_date, periods=96, freq='15Min'),\n",
    "                'ycz' : df['power'].values,\n",
    "                'rksj' : [datetime.datetime.now().strftime('%Y-%m-%d %H:%M:%S')] * 96,\n",
    "                'dwmc' : ['sf_2023_chenquanqi'] * 96\n",
    "            }\n",
    "        )\n",
    "        if df_final is None:\n",
    "            df_final = df_res\n",
    "        else:\n",
    "            df_final = pd.concat([df_final, df_res], axis=0)\n",
    "    DataFrame(df_final).persist('t_power_forecast', odps=o)\n",
    "    return df_final"
   ]
  },
  {
   "cell_type": "code",
   "execution_count": null,
   "metadata": {
    "uuid": "edf2469f-b727-4eb5-8db6-a87fd855fc52"
   },
   "outputs": [],
   "source": [
    "def baseline(date_list=None):\n",
    "    \n",
    "    o = ODPS(\n",
    "        AK_GX,\n",
    "        AKS_GX,\n",
    "        NAME,\n",
    "        endpoint\n",
    "        )\n",
    "    try:\n",
    "        df_list = pull_yes_data(oid_list, o, date_list)\n",
    "    except:\n",
    "        print('获取数据失败，请检查数据更新情况')\n",
    "        return False\n",
    "    try:\n",
    "        df_final = send_result(df_list, o)\n",
    "    except:\n",
    "        print('发送数据失败，请检查发送程序')\n",
    "        return False\n",
    "    del df_final\n",
    "    gc.collect()\n",
    "    return True\n"
   ]
  },
  {
   "cell_type": "code",
   "execution_count": null,
   "metadata": {
    "uuid": "15143e82-72c1-4420-8abb-8262f261190a"
   },
   "outputs": [],
   "source": [
    "flag = baseline()\n",
    "flag"
   ]
  },
  {
   "cell_type": "code",
   "execution_count": null,
   "metadata": {
    "uuid": "8468ed1f-4851-47e1-a639-92ecff4e26f1"
   },
   "outputs": [],
   "source": []
  }
 ],
 "metadata": {
  "kernelspec": {
   "display_name": "Python 3",
   "language": "python",
   "name": "python3"
  },
  "language_info": {
   "codemirror_mode": {
    "name": "ipython",
    "version": 3
   },
   "file_extension": ".py",
   "mimetype": "text/x-python",
   "name": "python",
   "nbconvert_exporter": "python",
   "pygments_lexer": "ipython3",
   "version": "3.6.9"
  }
 },
 "nbformat": 4,
 "nbformat_minor": 4
}
